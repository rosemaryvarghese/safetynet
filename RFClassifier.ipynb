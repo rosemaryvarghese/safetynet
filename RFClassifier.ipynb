{
 "cells": [
  {
   "cell_type": "code",
   "execution_count": 1,
   "metadata": {},
   "outputs": [],
   "source": [
    "import pandas as pd\n",
    "import numpy as np\n",
    "import seaborn as sns\n",
    "import matplotlib.pyplot as plt\n",
    "%matplotlib inline"
   ]
  },
  {
   "cell_type": "code",
   "execution_count": 2,
   "metadata": {},
   "outputs": [],
   "source": [
    "from sklearn.model_selection import train_test_split\n",
    "from sklearn.multioutput import MultiOutputClassifier\n",
    "from sklearn.ensemble import RandomForestClassifier, VotingClassifier\n",
    "from sklearn.model_selection import train_test_split\n",
    "from sklearn.datasets import make_classification\n",
    "data=pd.read_csv(r\"C:\\Users\\Srinivasan\\Desktop\\SRP - SRINEDHI\\data\\newdata.csv\")"
   ]
  },
  {
   "cell_type": "code",
   "execution_count": 3,
   "metadata": {},
   "outputs": [],
   "source": [
    "from sklearn.neighbors import KNeighborsClassifier\n",
    "from sklearn.neural_network import MLPClassifier\n",
    "from sklearn.metrics import classification_report\n",
    "from sklearn import metrics"
   ]
  },
  {
   "cell_type": "code",
   "execution_count": 4,
   "metadata": {},
   "outputs": [
    {
     "data": {
      "text/html": [
       "<div>\n",
       "<style scoped>\n",
       "    .dataframe tbody tr th:only-of-type {\n",
       "        vertical-align: middle;\n",
       "    }\n",
       "\n",
       "    .dataframe tbody tr th {\n",
       "        vertical-align: top;\n",
       "    }\n",
       "\n",
       "    .dataframe thead th {\n",
       "        text-align: right;\n",
       "    }\n",
       "</style>\n",
       "<table border=\"1\" class=\"dataframe\">\n",
       "  <thead>\n",
       "    <tr style=\"text-align: right;\">\n",
       "      <th></th>\n",
       "      <th>STATE</th>\n",
       "      <th>DISTRICT</th>\n",
       "      <th>YEAR</th>\n",
       "      <th>murder and attempt</th>\n",
       "      <th>Rape</th>\n",
       "      <th>Kidnapping and Abduction</th>\n",
       "      <th>Dacoity and various theft</th>\n",
       "      <th>violence against women</th>\n",
       "    </tr>\n",
       "  </thead>\n",
       "  <tbody>\n",
       "    <tr>\n",
       "      <th>0</th>\n",
       "      <td>ANDHRA PRADESH</td>\n",
       "      <td>ADILABAD</td>\n",
       "      <td>2012</td>\n",
       "      <td>175</td>\n",
       "      <td>176</td>\n",
       "      <td>164</td>\n",
       "      <td>1002</td>\n",
       "      <td>252</td>\n",
       "    </tr>\n",
       "    <tr>\n",
       "      <th>1</th>\n",
       "      <td>ANDHRA PRADESH</td>\n",
       "      <td>ANANTAPUR</td>\n",
       "      <td>2012</td>\n",
       "      <td>299</td>\n",
       "      <td>36</td>\n",
       "      <td>148</td>\n",
       "      <td>1393</td>\n",
       "      <td>222</td>\n",
       "    </tr>\n",
       "    <tr>\n",
       "      <th>2</th>\n",
       "      <td>ANDHRA PRADESH</td>\n",
       "      <td>CHITTOOR</td>\n",
       "      <td>2012</td>\n",
       "      <td>171</td>\n",
       "      <td>56</td>\n",
       "      <td>112</td>\n",
       "      <td>1151</td>\n",
       "      <td>392</td>\n",
       "    </tr>\n",
       "    <tr>\n",
       "      <th>3</th>\n",
       "      <td>ANDHRA PRADESH</td>\n",
       "      <td>CUDDAPAH</td>\n",
       "      <td>2012</td>\n",
       "      <td>216</td>\n",
       "      <td>52</td>\n",
       "      <td>152</td>\n",
       "      <td>1175</td>\n",
       "      <td>267</td>\n",
       "    </tr>\n",
       "    <tr>\n",
       "      <th>4</th>\n",
       "      <td>ANDHRA PRADESH</td>\n",
       "      <td>CYBERABAD</td>\n",
       "      <td>2012</td>\n",
       "      <td>321</td>\n",
       "      <td>150</td>\n",
       "      <td>316</td>\n",
       "      <td>10123</td>\n",
       "      <td>510</td>\n",
       "    </tr>\n",
       "  </tbody>\n",
       "</table>\n",
       "</div>"
      ],
      "text/plain": [
       "            STATE   DISTRICT  YEAR  murder and attempt  Rape  \\\n",
       "0  ANDHRA PRADESH   ADILABAD  2012                 175   176   \n",
       "1  ANDHRA PRADESH  ANANTAPUR  2012                 299    36   \n",
       "2  ANDHRA PRADESH   CHITTOOR  2012                 171    56   \n",
       "3  ANDHRA PRADESH   CUDDAPAH  2012                 216    52   \n",
       "4  ANDHRA PRADESH  CYBERABAD  2012                 321   150   \n",
       "\n",
       "   Kidnapping and Abduction  Dacoity and various theft  violence against women  \n",
       "0                       164                       1002                     252  \n",
       "1                       148                       1393                     222  \n",
       "2                       112                       1151                     392  \n",
       "3                       152                       1175                     267  \n",
       "4                       316                      10123                     510  "
      ]
     },
     "execution_count": 4,
     "metadata": {},
     "output_type": "execute_result"
    }
   ],
   "source": [
    "data['murder and attempt']=data.iloc[:, -30:-27].sum(axis=1)\n",
    "data['Rape']=data.iloc[:, -28:-25].sum(axis=1)\n",
    "data.drop(data.columns[[3,4,5,6,7,8]], axis = 1, inplace = True)\n",
    "data['Kidnapping and Abduction']=data.iloc[:, -26:-23].sum(axis=1)\n",
    "data.drop(data.columns[[3,4,5]], axis = 1, inplace = True)\n",
    "data.drop(data.columns[[4,10,11,12,13,14]], axis = 1, inplace = True)\n",
    "data['Dacoity and various theft']=data.iloc[:, -18:-12].sum(axis=1)\n",
    "data.drop(data.columns[[3,4,5,6,7,8]], axis = 1, inplace = True)\n",
    "data.drop(data.columns[[3,7,8,10,11]], axis = 1, inplace = True)\n",
    "data['violence against women']=data.iloc[:, -8:-5].sum(axis=1)\n",
    "data.drop(data.columns[[3,4,5]], axis = 1, inplace = True)\n",
    "data.drop(data.columns[[3]], axis=1, inplace = True)\n",
    "data.rename(columns = {'STATE/UT':'STATE'}, inplace = True)\n",
    "data.head()"
   ]
  },
  {
   "cell_type": "code",
   "execution_count": 5,
   "metadata": {},
   "outputs": [
    {
     "name": "stdout",
     "output_type": "stream",
     "text": [
      "   STATE  DISTRICT  YEAR  murder and attempt  Rape  Kidnapping and Abduction  \\\n",
      "0      2         2  2012                 175   176                       164   \n",
      "1      2        28  2012                 299    36                       148   \n",
      "2      2       147  2012                 171    56                       112   \n",
      "3      2       164  2012                 216    52                       152   \n",
      "4      2       166  2012                 321   150                       316   \n",
      "\n",
      "   Dacoity and various theft  violence against women  \n",
      "0                       1002                     252  \n",
      "1                       1393                     222  \n",
      "2                       1151                     392  \n",
      "3                       1175                     267  \n",
      "4                      10123                     510  \n"
     ]
    }
   ],
   "source": [
    "from sklearn import preprocessing\n",
    "\n",
    "label_encoder = preprocessing.LabelEncoder()\n",
    "\n",
    "data['STATE']= label_encoder.fit_transform(data['STATE'])\n",
    "data['DISTRICT']= label_encoder.fit_transform(data['DISTRICT']) \n",
    "print(data.head())"
   ]
  },
  {
   "cell_type": "code",
   "execution_count": 6,
   "metadata": {},
   "outputs": [],
   "source": [
    "X = data.iloc[:,[0,1,2]].values\n",
    "Y = data.iloc[:,[3,4,5,6,7]].values"
   ]
  },
  {
   "cell_type": "code",
   "execution_count": 7,
   "metadata": {},
   "outputs": [],
   "source": [
    "X_train, X_test, Y_train, Y_test = train_test_split(X, Y, test_size=0.20, random_state=50)"
   ]
  },
  {
   "cell_type": "code",
   "execution_count": 8,
   "metadata": {},
   "outputs": [],
   "source": [
    "rfc = RandomForestClassifier(n_estimators=100, class_weight=\"balanced\")\n",
    "multi_target_forest = MultiOutputClassifier(rfc, n_jobs=-1)"
   ]
  },
  {
   "cell_type": "code",
   "execution_count": 9,
   "metadata": {},
   "outputs": [
    {
     "data": {
      "text/plain": [
       "MultiOutputClassifier(estimator=RandomForestClassifier(class_weight='balanced'),\n",
       "                      n_jobs=-1)"
      ]
     },
     "execution_count": 9,
     "metadata": {},
     "output_type": "execute_result"
    }
   ],
   "source": [
    "multi_target_forest.fit(X_train, Y_train)"
   ]
  },
  {
   "cell_type": "code",
   "execution_count": 10,
   "metadata": {},
   "outputs": [],
   "source": [
    "y = multi_target_forest.predict(X_test)\n",
    "acc_list = []\n",
    "for i in range(Y_test.shape[0]):\n",
    "        set_true = set( np.where(Y_train[i])[0] )\n",
    "        set_pred = set( np.where(y[i])[0] )\n",
    "        tmp_a = None\n",
    "        if len(set_true) == 0 and len(set_pred) == 0:\n",
    "            tmp_a = 1\n",
    "        else:\n",
    "            tmp_a = len(set_true.intersection(set_pred))/\\\n",
    "                    float( len(set_true.union(set_pred)) )\n",
    "        acc_list.append(tmp_a)"
   ]
  },
  {
   "cell_type": "code",
   "execution_count": 11,
   "metadata": {},
   "outputs": [
    {
     "name": "stdout",
     "output_type": "stream",
     "text": [
      "Random forests score: 92.59938837920488\n"
     ]
    }
   ],
   "source": [
    "print('Random forests score:', np.mean(acc_list)*100)"
   ]
  },
  {
   "cell_type": "code",
   "execution_count": null,
   "metadata": {},
   "outputs": [],
   "source": []
  }
 ],
 "metadata": {
  "kernelspec": {
   "display_name": "Python 3",
   "language": "python",
   "name": "python3"
  },
  "language_info": {
   "codemirror_mode": {
    "name": "ipython",
    "version": 3
   },
   "file_extension": ".py",
   "mimetype": "text/x-python",
   "name": "python",
   "nbconvert_exporter": "python",
   "pygments_lexer": "ipython3",
   "version": "3.8.3"
  }
 },
 "nbformat": 4,
 "nbformat_minor": 4
}
