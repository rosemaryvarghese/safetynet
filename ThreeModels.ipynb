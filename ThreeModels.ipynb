{
 "cells": [
  {
   "cell_type": "code",
   "execution_count": 1,
   "metadata": {},
   "outputs": [],
   "source": [
    "import pandas as pd\n",
    "import numpy as np\n",
    "import seaborn as sns\n",
    "import matplotlib.pyplot as plt\n",
    "%matplotlib inline\n",
    "\n",
    "from flask import Flask, render_template, request, redirect, url_for, jsonify\n",
    "import pickle"
   ]
  },
  {
   "cell_type": "code",
   "execution_count": 2,
   "metadata": {},
   "outputs": [],
   "source": [
    "from sklearn.model_selection import train_test_split\n",
    "from sklearn.multioutput import MultiOutputClassifier\n",
    "from sklearn.ensemble import RandomForestClassifier, VotingClassifier\n",
    "from sklearn.model_selection import train_test_split\n",
    "from sklearn.datasets import make_classification\n",
    "data=pd.read_csv(r\"C:\\Users\\Srinivasan\\Desktop\\SRP - SRINEDHI\\data\\newdata.csv\")"
   ]
  },
  {
   "cell_type": "code",
   "execution_count": 3,
   "metadata": {},
   "outputs": [],
   "source": [
    "from sklearn.neighbors import KNeighborsClassifier\n",
    "from sklearn.neural_network import MLPClassifier\n",
    "from sklearn.metrics import classification_report\n",
    "from sklearn import metrics"
   ]
  },
  {
   "cell_type": "code",
   "execution_count": 4,
   "metadata": {},
   "outputs": [
    {
     "data": {
      "text/html": [
       "<div>\n",
       "<style scoped>\n",
       "    .dataframe tbody tr th:only-of-type {\n",
       "        vertical-align: middle;\n",
       "    }\n",
       "\n",
       "    .dataframe tbody tr th {\n",
       "        vertical-align: top;\n",
       "    }\n",
       "\n",
       "    .dataframe thead th {\n",
       "        text-align: right;\n",
       "    }\n",
       "</style>\n",
       "<table border=\"1\" class=\"dataframe\">\n",
       "  <thead>\n",
       "    <tr style=\"text-align: right;\">\n",
       "      <th></th>\n",
       "      <th>STATE/UT</th>\n",
       "      <th>DISTRICT</th>\n",
       "      <th>YEAR</th>\n",
       "      <th>MURDER</th>\n",
       "      <th>ATTEMPT TO MURDER</th>\n",
       "      <th>CULPABLE HOMICIDE NOT AMOUNTING TO MURDER</th>\n",
       "      <th>RAPE</th>\n",
       "      <th>CUSTODIAL RAPE</th>\n",
       "      <th>OTHER RAPE</th>\n",
       "      <th>KIDNAPPING &amp; ABDUCTION</th>\n",
       "      <th>...</th>\n",
       "      <th>ARSON</th>\n",
       "      <th>HURT/GREVIOUS HURT</th>\n",
       "      <th>DOWRY DEATHS</th>\n",
       "      <th>ASSAULT ON WOMEN WITH INTENT TO OUTRAGE HER MODESTY</th>\n",
       "      <th>INSULT TO MODESTY OF WOMEN</th>\n",
       "      <th>CRUELTY BY HUSBAND OR HIS RELATIVES</th>\n",
       "      <th>IMPORTATION OF GIRLS FROM FOREIGN COUNTRIES</th>\n",
       "      <th>CAUSING DEATH BY NEGLIGENCE</th>\n",
       "      <th>OTHER IPC CRIMES</th>\n",
       "      <th>TOTAL IPC CRIMES</th>\n",
       "    </tr>\n",
       "  </thead>\n",
       "  <tbody>\n",
       "    <tr>\n",
       "      <th>0</th>\n",
       "      <td>ANDHRA PRADESH</td>\n",
       "      <td>ADILABAD</td>\n",
       "      <td>2012</td>\n",
       "      <td>81</td>\n",
       "      <td>80</td>\n",
       "      <td>14</td>\n",
       "      <td>88</td>\n",
       "      <td>0</td>\n",
       "      <td>88</td>\n",
       "      <td>82</td>\n",
       "      <td>...</td>\n",
       "      <td>35</td>\n",
       "      <td>2172</td>\n",
       "      <td>7</td>\n",
       "      <td>90</td>\n",
       "      <td>155</td>\n",
       "      <td>498</td>\n",
       "      <td>0</td>\n",
       "      <td>400</td>\n",
       "      <td>1079</td>\n",
       "      <td>5710</td>\n",
       "    </tr>\n",
       "    <tr>\n",
       "      <th>1</th>\n",
       "      <td>ANDHRA PRADESH</td>\n",
       "      <td>ANANTAPUR</td>\n",
       "      <td>2012</td>\n",
       "      <td>173</td>\n",
       "      <td>123</td>\n",
       "      <td>3</td>\n",
       "      <td>18</td>\n",
       "      <td>0</td>\n",
       "      <td>18</td>\n",
       "      <td>74</td>\n",
       "      <td>...</td>\n",
       "      <td>24</td>\n",
       "      <td>2018</td>\n",
       "      <td>19</td>\n",
       "      <td>195</td>\n",
       "      <td>8</td>\n",
       "      <td>130</td>\n",
       "      <td>0</td>\n",
       "      <td>576</td>\n",
       "      <td>1043</td>\n",
       "      <td>5441</td>\n",
       "    </tr>\n",
       "    <tr>\n",
       "      <th>2</th>\n",
       "      <td>ANDHRA PRADESH</td>\n",
       "      <td>CHITTOOR</td>\n",
       "      <td>2012</td>\n",
       "      <td>91</td>\n",
       "      <td>75</td>\n",
       "      <td>5</td>\n",
       "      <td>28</td>\n",
       "      <td>0</td>\n",
       "      <td>28</td>\n",
       "      <td>56</td>\n",
       "      <td>...</td>\n",
       "      <td>27</td>\n",
       "      <td>622</td>\n",
       "      <td>33</td>\n",
       "      <td>90</td>\n",
       "      <td>269</td>\n",
       "      <td>339</td>\n",
       "      <td>0</td>\n",
       "      <td>520</td>\n",
       "      <td>1398</td>\n",
       "      <td>4465</td>\n",
       "    </tr>\n",
       "    <tr>\n",
       "      <th>3</th>\n",
       "      <td>ANDHRA PRADESH</td>\n",
       "      <td>CUDDAPAH</td>\n",
       "      <td>2012</td>\n",
       "      <td>118</td>\n",
       "      <td>96</td>\n",
       "      <td>2</td>\n",
       "      <td>26</td>\n",
       "      <td>0</td>\n",
       "      <td>26</td>\n",
       "      <td>76</td>\n",
       "      <td>...</td>\n",
       "      <td>6</td>\n",
       "      <td>2355</td>\n",
       "      <td>13</td>\n",
       "      <td>217</td>\n",
       "      <td>37</td>\n",
       "      <td>120</td>\n",
       "      <td>0</td>\n",
       "      <td>500</td>\n",
       "      <td>1360</td>\n",
       "      <td>6110</td>\n",
       "    </tr>\n",
       "    <tr>\n",
       "      <th>4</th>\n",
       "      <td>ANDHRA PRADESH</td>\n",
       "      <td>CYBERABAD</td>\n",
       "      <td>2012</td>\n",
       "      <td>198</td>\n",
       "      <td>113</td>\n",
       "      <td>10</td>\n",
       "      <td>75</td>\n",
       "      <td>0</td>\n",
       "      <td>75</td>\n",
       "      <td>158</td>\n",
       "      <td>...</td>\n",
       "      <td>48</td>\n",
       "      <td>4013</td>\n",
       "      <td>45</td>\n",
       "      <td>183</td>\n",
       "      <td>282</td>\n",
       "      <td>976</td>\n",
       "      <td>0</td>\n",
       "      <td>1095</td>\n",
       "      <td>3155</td>\n",
       "      <td>17979</td>\n",
       "    </tr>\n",
       "  </tbody>\n",
       "</table>\n",
       "<p>5 rows × 33 columns</p>\n",
       "</div>"
      ],
      "text/plain": [
       "         STATE/UT   DISTRICT  YEAR  MURDER  ATTEMPT TO MURDER  \\\n",
       "0  ANDHRA PRADESH   ADILABAD  2012      81                 80   \n",
       "1  ANDHRA PRADESH  ANANTAPUR  2012     173                123   \n",
       "2  ANDHRA PRADESH   CHITTOOR  2012      91                 75   \n",
       "3  ANDHRA PRADESH   CUDDAPAH  2012     118                 96   \n",
       "4  ANDHRA PRADESH  CYBERABAD  2012     198                113   \n",
       "\n",
       "   CULPABLE HOMICIDE NOT AMOUNTING TO MURDER  RAPE  CUSTODIAL RAPE  \\\n",
       "0                                         14    88               0   \n",
       "1                                          3    18               0   \n",
       "2                                          5    28               0   \n",
       "3                                          2    26               0   \n",
       "4                                         10    75               0   \n",
       "\n",
       "   OTHER RAPE  KIDNAPPING & ABDUCTION  ...  ARSON  HURT/GREVIOUS HURT  \\\n",
       "0          88                      82  ...     35                2172   \n",
       "1          18                      74  ...     24                2018   \n",
       "2          28                      56  ...     27                 622   \n",
       "3          26                      76  ...      6                2355   \n",
       "4          75                     158  ...     48                4013   \n",
       "\n",
       "   DOWRY DEATHS  ASSAULT ON WOMEN WITH INTENT TO OUTRAGE HER MODESTY  \\\n",
       "0             7                                                 90     \n",
       "1            19                                                195     \n",
       "2            33                                                 90     \n",
       "3            13                                                217     \n",
       "4            45                                                183     \n",
       "\n",
       "   INSULT TO MODESTY OF WOMEN  CRUELTY BY HUSBAND OR HIS RELATIVES  \\\n",
       "0                         155                                  498   \n",
       "1                           8                                  130   \n",
       "2                         269                                  339   \n",
       "3                          37                                  120   \n",
       "4                         282                                  976   \n",
       "\n",
       "   IMPORTATION OF GIRLS FROM FOREIGN COUNTRIES  CAUSING DEATH BY NEGLIGENCE  \\\n",
       "0                                            0                          400   \n",
       "1                                            0                          576   \n",
       "2                                            0                          520   \n",
       "3                                            0                          500   \n",
       "4                                            0                         1095   \n",
       "\n",
       "   OTHER IPC CRIMES  TOTAL IPC CRIMES  \n",
       "0              1079              5710  \n",
       "1              1043              5441  \n",
       "2              1398              4465  \n",
       "3              1360              6110  \n",
       "4              3155             17979  \n",
       "\n",
       "[5 rows x 33 columns]"
      ]
     },
     "execution_count": 4,
     "metadata": {},
     "output_type": "execute_result"
    }
   ],
   "source": [
    "data.head()"
   ]
  },
  {
   "cell_type": "code",
   "execution_count": 5,
   "metadata": {},
   "outputs": [
    {
     "data": {
      "text/plain": [
       "Index(['STATE/UT', 'DISTRICT', 'YEAR', 'MURDER', 'ATTEMPT TO MURDER',\n",
       "       'CULPABLE HOMICIDE NOT AMOUNTING TO MURDER', 'RAPE', 'CUSTODIAL RAPE',\n",
       "       'OTHER RAPE', 'KIDNAPPING & ABDUCTION',\n",
       "       'KIDNAPPING AND ABDUCTION OF WOMEN AND GIRLS',\n",
       "       'KIDNAPPING AND ABDUCTION OF OTHERS', 'DACOITY',\n",
       "       'PREPARATION AND ASSEMBLY FOR DACOITY', 'ROBBERY', 'BURGLARY', 'THEFT',\n",
       "       'AUTO THEFT', 'OTHER THEFT', 'RIOTS', 'CRIMINAL BREACH OF TRUST',\n",
       "       'CHEATING', 'COUNTERFIETING', 'ARSON', 'HURT/GREVIOUS HURT',\n",
       "       'DOWRY DEATHS', 'ASSAULT ON WOMEN WITH INTENT TO OUTRAGE HER MODESTY',\n",
       "       'INSULT TO MODESTY OF WOMEN', 'CRUELTY BY HUSBAND OR HIS RELATIVES',\n",
       "       'IMPORTATION OF GIRLS FROM FOREIGN COUNTRIES',\n",
       "       'CAUSING DEATH BY NEGLIGENCE', 'OTHER IPC CRIMES', 'TOTAL IPC CRIMES'],\n",
       "      dtype='object')"
      ]
     },
     "execution_count": 5,
     "metadata": {},
     "output_type": "execute_result"
    }
   ],
   "source": [
    "data.keys()"
   ]
  },
  {
   "cell_type": "code",
   "execution_count": 6,
   "metadata": {},
   "outputs": [],
   "source": [
    "data['murder and attempt']=data.iloc[:, -30:-27].sum(axis=1)"
   ]
  },
  {
   "cell_type": "code",
   "execution_count": 7,
   "metadata": {},
   "outputs": [],
   "source": [
    "data['Rape']=data.iloc[:, -28:-25].sum(axis=1)"
   ]
  },
  {
   "cell_type": "code",
   "execution_count": 8,
   "metadata": {},
   "outputs": [],
   "source": [
    "data.drop(data.columns[[3,4,5,6,7,8]], axis = 1, inplace = True)"
   ]
  },
  {
   "cell_type": "code",
   "execution_count": 9,
   "metadata": {},
   "outputs": [],
   "source": [
    "data['Kidnapping and Abduction']=data.iloc[:, -26:-23].sum(axis=1)"
   ]
  },
  {
   "cell_type": "code",
   "execution_count": 10,
   "metadata": {},
   "outputs": [],
   "source": [
    "data.drop(data.columns[[3,4,5]], axis = 1, inplace = True)"
   ]
  },
  {
   "cell_type": "code",
   "execution_count": 11,
   "metadata": {},
   "outputs": [],
   "source": [
    "data.drop(data.columns[[4,10,11,12,13,14]], axis = 1, inplace = True)"
   ]
  },
  {
   "cell_type": "code",
   "execution_count": 12,
   "metadata": {},
   "outputs": [],
   "source": [
    "data['Dacoity and various theft']=data.iloc[:, -18:-12].sum(axis=1)"
   ]
  },
  {
   "cell_type": "code",
   "execution_count": 13,
   "metadata": {},
   "outputs": [],
   "source": [
    "data.drop(data.columns[[3,4,5,6,7,8]], axis = 1, inplace = True)"
   ]
  },
  {
   "cell_type": "code",
   "execution_count": 14,
   "metadata": {},
   "outputs": [],
   "source": [
    "data.drop(data.columns[[3,7,8,10,11]], axis = 1, inplace = True)"
   ]
  },
  {
   "cell_type": "code",
   "execution_count": 15,
   "metadata": {},
   "outputs": [],
   "source": [
    "data['violence against women']=data.iloc[:, -8:-5].sum(axis=1)"
   ]
  },
  {
   "cell_type": "code",
   "execution_count": 16,
   "metadata": {},
   "outputs": [],
   "source": [
    "data.drop(data.columns[[3,4,5]], axis = 1, inplace = True)"
   ]
  },
  {
   "cell_type": "code",
   "execution_count": 17,
   "metadata": {},
   "outputs": [],
   "source": [
    "data.drop(data.columns[[3]], axis=1, inplace = True)"
   ]
  },
  {
   "cell_type": "code",
   "execution_count": 18,
   "metadata": {},
   "outputs": [
    {
     "data": {
      "text/html": [
       "<div>\n",
       "<style scoped>\n",
       "    .dataframe tbody tr th:only-of-type {\n",
       "        vertical-align: middle;\n",
       "    }\n",
       "\n",
       "    .dataframe tbody tr th {\n",
       "        vertical-align: top;\n",
       "    }\n",
       "\n",
       "    .dataframe thead th {\n",
       "        text-align: right;\n",
       "    }\n",
       "</style>\n",
       "<table border=\"1\" class=\"dataframe\">\n",
       "  <thead>\n",
       "    <tr style=\"text-align: right;\">\n",
       "      <th></th>\n",
       "      <th>STATE/UT</th>\n",
       "      <th>DISTRICT</th>\n",
       "      <th>YEAR</th>\n",
       "      <th>murder and attempt</th>\n",
       "      <th>Rape</th>\n",
       "      <th>Kidnapping and Abduction</th>\n",
       "      <th>Dacoity and various theft</th>\n",
       "      <th>violence against women</th>\n",
       "    </tr>\n",
       "  </thead>\n",
       "  <tbody>\n",
       "    <tr>\n",
       "      <th>0</th>\n",
       "      <td>ANDHRA PRADESH</td>\n",
       "      <td>ADILABAD</td>\n",
       "      <td>2012</td>\n",
       "      <td>175</td>\n",
       "      <td>176</td>\n",
       "      <td>164</td>\n",
       "      <td>1002</td>\n",
       "      <td>252</td>\n",
       "    </tr>\n",
       "    <tr>\n",
       "      <th>1</th>\n",
       "      <td>ANDHRA PRADESH</td>\n",
       "      <td>ANANTAPUR</td>\n",
       "      <td>2012</td>\n",
       "      <td>299</td>\n",
       "      <td>36</td>\n",
       "      <td>148</td>\n",
       "      <td>1393</td>\n",
       "      <td>222</td>\n",
       "    </tr>\n",
       "    <tr>\n",
       "      <th>2</th>\n",
       "      <td>ANDHRA PRADESH</td>\n",
       "      <td>CHITTOOR</td>\n",
       "      <td>2012</td>\n",
       "      <td>171</td>\n",
       "      <td>56</td>\n",
       "      <td>112</td>\n",
       "      <td>1151</td>\n",
       "      <td>392</td>\n",
       "    </tr>\n",
       "    <tr>\n",
       "      <th>3</th>\n",
       "      <td>ANDHRA PRADESH</td>\n",
       "      <td>CUDDAPAH</td>\n",
       "      <td>2012</td>\n",
       "      <td>216</td>\n",
       "      <td>52</td>\n",
       "      <td>152</td>\n",
       "      <td>1175</td>\n",
       "      <td>267</td>\n",
       "    </tr>\n",
       "    <tr>\n",
       "      <th>4</th>\n",
       "      <td>ANDHRA PRADESH</td>\n",
       "      <td>CYBERABAD</td>\n",
       "      <td>2012</td>\n",
       "      <td>321</td>\n",
       "      <td>150</td>\n",
       "      <td>316</td>\n",
       "      <td>10123</td>\n",
       "      <td>510</td>\n",
       "    </tr>\n",
       "  </tbody>\n",
       "</table>\n",
       "</div>"
      ],
      "text/plain": [
       "         STATE/UT   DISTRICT  YEAR  murder and attempt  Rape  \\\n",
       "0  ANDHRA PRADESH   ADILABAD  2012                 175   176   \n",
       "1  ANDHRA PRADESH  ANANTAPUR  2012                 299    36   \n",
       "2  ANDHRA PRADESH   CHITTOOR  2012                 171    56   \n",
       "3  ANDHRA PRADESH   CUDDAPAH  2012                 216    52   \n",
       "4  ANDHRA PRADESH  CYBERABAD  2012                 321   150   \n",
       "\n",
       "   Kidnapping and Abduction  Dacoity and various theft  violence against women  \n",
       "0                       164                       1002                     252  \n",
       "1                       148                       1393                     222  \n",
       "2                       112                       1151                     392  \n",
       "3                       152                       1175                     267  \n",
       "4                       316                      10123                     510  "
      ]
     },
     "execution_count": 18,
     "metadata": {},
     "output_type": "execute_result"
    }
   ],
   "source": [
    "data.head()"
   ]
  },
  {
   "cell_type": "code",
   "execution_count": 19,
   "metadata": {},
   "outputs": [
    {
     "data": {
      "text/html": [
       "<div>\n",
       "<style scoped>\n",
       "    .dataframe tbody tr th:only-of-type {\n",
       "        vertical-align: middle;\n",
       "    }\n",
       "\n",
       "    .dataframe tbody tr th {\n",
       "        vertical-align: top;\n",
       "    }\n",
       "\n",
       "    .dataframe thead th {\n",
       "        text-align: right;\n",
       "    }\n",
       "</style>\n",
       "<table border=\"1\" class=\"dataframe\">\n",
       "  <thead>\n",
       "    <tr style=\"text-align: right;\">\n",
       "      <th></th>\n",
       "      <th>STATE</th>\n",
       "      <th>DISTRICT</th>\n",
       "      <th>YEAR</th>\n",
       "      <th>murder and attempt</th>\n",
       "      <th>Rape</th>\n",
       "      <th>Kidnapping and Abduction</th>\n",
       "      <th>Dacoity and various theft</th>\n",
       "      <th>violence against women</th>\n",
       "    </tr>\n",
       "  </thead>\n",
       "  <tbody>\n",
       "    <tr>\n",
       "      <th>0</th>\n",
       "      <td>ANDHRA PRADESH</td>\n",
       "      <td>ADILABAD</td>\n",
       "      <td>2012</td>\n",
       "      <td>175</td>\n",
       "      <td>176</td>\n",
       "      <td>164</td>\n",
       "      <td>1002</td>\n",
       "      <td>252</td>\n",
       "    </tr>\n",
       "    <tr>\n",
       "      <th>1</th>\n",
       "      <td>ANDHRA PRADESH</td>\n",
       "      <td>ANANTAPUR</td>\n",
       "      <td>2012</td>\n",
       "      <td>299</td>\n",
       "      <td>36</td>\n",
       "      <td>148</td>\n",
       "      <td>1393</td>\n",
       "      <td>222</td>\n",
       "    </tr>\n",
       "    <tr>\n",
       "      <th>2</th>\n",
       "      <td>ANDHRA PRADESH</td>\n",
       "      <td>CHITTOOR</td>\n",
       "      <td>2012</td>\n",
       "      <td>171</td>\n",
       "      <td>56</td>\n",
       "      <td>112</td>\n",
       "      <td>1151</td>\n",
       "      <td>392</td>\n",
       "    </tr>\n",
       "    <tr>\n",
       "      <th>3</th>\n",
       "      <td>ANDHRA PRADESH</td>\n",
       "      <td>CUDDAPAH</td>\n",
       "      <td>2012</td>\n",
       "      <td>216</td>\n",
       "      <td>52</td>\n",
       "      <td>152</td>\n",
       "      <td>1175</td>\n",
       "      <td>267</td>\n",
       "    </tr>\n",
       "    <tr>\n",
       "      <th>4</th>\n",
       "      <td>ANDHRA PRADESH</td>\n",
       "      <td>CYBERABAD</td>\n",
       "      <td>2012</td>\n",
       "      <td>321</td>\n",
       "      <td>150</td>\n",
       "      <td>316</td>\n",
       "      <td>10123</td>\n",
       "      <td>510</td>\n",
       "    </tr>\n",
       "  </tbody>\n",
       "</table>\n",
       "</div>"
      ],
      "text/plain": [
       "            STATE   DISTRICT  YEAR  murder and attempt  Rape  \\\n",
       "0  ANDHRA PRADESH   ADILABAD  2012                 175   176   \n",
       "1  ANDHRA PRADESH  ANANTAPUR  2012                 299    36   \n",
       "2  ANDHRA PRADESH   CHITTOOR  2012                 171    56   \n",
       "3  ANDHRA PRADESH   CUDDAPAH  2012                 216    52   \n",
       "4  ANDHRA PRADESH  CYBERABAD  2012                 321   150   \n",
       "\n",
       "   Kidnapping and Abduction  Dacoity and various theft  violence against women  \n",
       "0                       164                       1002                     252  \n",
       "1                       148                       1393                     222  \n",
       "2                       112                       1151                     392  \n",
       "3                       152                       1175                     267  \n",
       "4                       316                      10123                     510  "
      ]
     },
     "execution_count": 19,
     "metadata": {},
     "output_type": "execute_result"
    }
   ],
   "source": [
    "data.rename(columns = {'STATE/UT':'STATE'}, inplace = True)\n",
    "data.head()"
   ]
  },
  {
   "cell_type": "code",
   "execution_count": 20,
   "metadata": {},
   "outputs": [
    {
     "name": "stdout",
     "output_type": "stream",
     "text": [
      "   STATE  DISTRICT  YEAR  murder and attempt  Rape  Kidnapping and Abduction  \\\n",
      "0      2         2  2012                 175   176                       164   \n",
      "1      2        28  2012                 299    36                       148   \n",
      "2      2       147  2012                 171    56                       112   \n",
      "3      2       164  2012                 216    52                       152   \n",
      "4      2       166  2012                 321   150                       316   \n",
      "\n",
      "   Dacoity and various theft  violence against women  \n",
      "0                       1002                     252  \n",
      "1                       1393                     222  \n",
      "2                       1151                     392  \n",
      "3                       1175                     267  \n",
      "4                      10123                     510  \n"
     ]
    }
   ],
   "source": [
    "from sklearn import preprocessing\n",
    "\n",
    "label_encoder = preprocessing.LabelEncoder()\n",
    "\n",
    "data['STATE']= label_encoder.fit_transform(data['STATE'])\n",
    "data['DISTRICT']= label_encoder.fit_transform(data['DISTRICT']) \n",
    "print(data.head())"
   ]
  },
  {
   "cell_type": "code",
   "execution_count": 21,
   "metadata": {},
   "outputs": [
    {
     "data": {
      "text/plain": [
       "array([[   2,    2, 2012],\n",
       "       [   2,   28, 2012],\n",
       "       [   2,  147, 2012],\n",
       "       ...,\n",
       "       [  54,  369, 2013],\n",
       "       [  54,  566, 2013],\n",
       "       [  54,  780, 2013]], dtype=int64)"
      ]
     },
     "execution_count": 21,
     "metadata": {},
     "output_type": "execute_result"
    }
   ],
   "source": [
    "X = data.iloc[:,[0,1,2]].values\n",
    "X"
   ]
  },
  {
   "cell_type": "code",
   "execution_count": 22,
   "metadata": {},
   "outputs": [],
   "source": [
    "Y = data.iloc[:,[3,4,5,6,7]].values"
   ]
  },
  {
   "cell_type": "code",
   "execution_count": 23,
   "metadata": {},
   "outputs": [
    {
     "data": {
      "text/plain": [
       "array([[ 175,  176,  164, 1002,  252],\n",
       "       [ 299,   36,  148, 1393,  222],\n",
       "       [ 171,   56,  112, 1151,  392],\n",
       "       ...,\n",
       "       [   9,   12,    6,  133,    3],\n",
       "       [  35,   22,   76, 1137,   18],\n",
       "       [  44,   34,   82, 1270,   21]], dtype=int64)"
      ]
     },
     "execution_count": 23,
     "metadata": {},
     "output_type": "execute_result"
    }
   ],
   "source": [
    "Y"
   ]
  },
  {
   "cell_type": "code",
   "execution_count": 24,
   "metadata": {},
   "outputs": [],
   "source": [
    "X_train, X_test, Y_train, Y_test = train_test_split(X, Y, test_size=0.20, random_state=50)"
   ]
  },
  {
   "cell_type": "code",
   "execution_count": 25,
   "metadata": {},
   "outputs": [],
   "source": [
    "rfc = RandomForestClassifier(n_estimators=100, class_weight=\"balanced\")\n",
    "multi_target_forest = MultiOutputClassifier(rfc, n_jobs=-1)"
   ]
  },
  {
   "cell_type": "code",
   "execution_count": 26,
   "metadata": {},
   "outputs": [
    {
     "name": "stdout",
     "output_type": "stream",
     "text": [
      "<class 'pandas.core.frame.DataFrame'>\n",
      "RangeIndex: 1634 entries, 0 to 1633\n",
      "Data columns (total 8 columns):\n",
      " #   Column                     Non-Null Count  Dtype\n",
      "---  ------                     --------------  -----\n",
      " 0   STATE                      1634 non-null   int32\n",
      " 1   DISTRICT                   1634 non-null   int32\n",
      " 2   YEAR                       1634 non-null   int64\n",
      " 3   murder and attempt         1634 non-null   int64\n",
      " 4   Rape                       1634 non-null   int64\n",
      " 5   Kidnapping and Abduction   1634 non-null   int64\n",
      " 6   Dacoity and various theft  1634 non-null   int64\n",
      " 7   violence against women     1634 non-null   int64\n",
      "dtypes: int32(2), int64(6)\n",
      "memory usage: 89.5 KB\n"
     ]
    }
   ],
   "source": [
    "data.info()"
   ]
  },
  {
   "cell_type": "code",
   "execution_count": 27,
   "metadata": {},
   "outputs": [
    {
     "data": {
      "text/plain": [
       "(1634, 3)"
      ]
     },
     "execution_count": 27,
     "metadata": {},
     "output_type": "execute_result"
    }
   ],
   "source": [
    "X.shape"
   ]
  },
  {
   "cell_type": "code",
   "execution_count": 28,
   "metadata": {},
   "outputs": [
    {
     "data": {
      "text/plain": [
       "(1307, 3)"
      ]
     },
     "execution_count": 28,
     "metadata": {},
     "output_type": "execute_result"
    }
   ],
   "source": [
    "X_train.shape"
   ]
  },
  {
   "cell_type": "code",
   "execution_count": 29,
   "metadata": {},
   "outputs": [
    {
     "data": {
      "text/plain": [
       "MultiOutputClassifier(estimator=RandomForestClassifier(class_weight='balanced'),\n",
       "                      n_jobs=-1)"
      ]
     },
     "execution_count": 29,
     "metadata": {},
     "output_type": "execute_result"
    }
   ],
   "source": [
    "multi_target_forest.fit(X_train, Y_train)"
   ]
  },
  {
   "cell_type": "code",
   "execution_count": 30,
   "metadata": {},
   "outputs": [],
   "source": [
    "y = multi_target_forest.predict(X_test)\n",
    "acc_list = []\n",
    "for i in range(Y_test.shape[0]):\n",
    "        set_true = set( np.where(Y_train[i])[0] )\n",
    "        set_pred = set( np.where(y[i])[0] )\n",
    "        tmp_a = None\n",
    "        if len(set_true) == 0 and len(set_pred) == 0:\n",
    "            tmp_a = 1\n",
    "        else:\n",
    "            tmp_a = len(set_true.intersection(set_pred))/\\\n",
    "                    float( len(set_true.union(set_pred)) )\n",
    "        acc_list.append(tmp_a)"
   ]
  },
  {
   "cell_type": "code",
   "execution_count": 31,
   "metadata": {},
   "outputs": [
    {
     "name": "stdout",
     "output_type": "stream",
     "text": [
      "Random forests score: 92.04892966360856\n"
     ]
    }
   ],
   "source": [
    "print('Random forests score:', np.mean(acc_list)*100)"
   ]
  },
  {
   "cell_type": "code",
   "execution_count": 32,
   "metadata": {},
   "outputs": [
    {
     "data": {
      "text/plain": [
       "array([[ 213,  134,  332, 1187,  131],\n",
       "       [  89,  136,    8,  611,  162],\n",
       "       [ 181,   46,  180, 2005,  361],\n",
       "       ...,\n",
       "       [  92,   12,   34,   25,    7],\n",
       "       [   4,    0,   10,   44,    0],\n",
       "       [ 203,  106,  244,  502,   36]], dtype=int64)"
      ]
     },
     "execution_count": 32,
     "metadata": {},
     "output_type": "execute_result"
    }
   ],
   "source": [
    "y"
   ]
  },
  {
   "cell_type": "code",
   "execution_count": 33,
   "metadata": {},
   "outputs": [
    {
     "data": {
      "text/plain": [
       "array([[ 119,   66,   62,  671,   19],\n",
       "       [   1,    0,    8,  392,   58],\n",
       "       [ 180,  104,  178, 1956,  530],\n",
       "       ...,\n",
       "       [  75,   90,  522, 3369,  170],\n",
       "       [  13,   12,   24,   90,    6],\n",
       "       [  97,   10,   52,  156,   13]], dtype=int64)"
      ]
     },
     "execution_count": 33,
     "metadata": {},
     "output_type": "execute_result"
    }
   ],
   "source": [
    "Y_test"
   ]
  },
  {
   "cell_type": "code",
   "execution_count": 34,
   "metadata": {},
   "outputs": [],
   "source": [
    "from sklearn.model_selection import cross_val_score\n",
    "from sklearn.tree import DecisionTreeClassifier\n",
    "clf = DecisionTreeClassifier(random_state=0)"
   ]
  },
  {
   "cell_type": "code",
   "execution_count": 35,
   "metadata": {},
   "outputs": [
    {
     "data": {
      "text/plain": [
       "MultiOutputClassifier(estimator=DecisionTreeClassifier(random_state=0),\n",
       "                      n_jobs=-1)"
      ]
     },
     "execution_count": 35,
     "metadata": {},
     "output_type": "execute_result"
    }
   ],
   "source": [
    "multi_target_tree = MultiOutputClassifier(clf, n_jobs=-1)\n",
    "multi_target_tree.fit(X_train, Y_train)"
   ]
  },
  {
   "cell_type": "code",
   "execution_count": 36,
   "metadata": {},
   "outputs": [],
   "source": [
    "y1 = multi_target_tree.predict(X_test)"
   ]
  },
  {
   "cell_type": "code",
   "execution_count": 37,
   "metadata": {},
   "outputs": [],
   "source": [
    "acc_list = []\n",
    "for i in range(Y_test.shape[0]):\n",
    "        set_true = set( np.where(Y_train[i])[0] )\n",
    "        set_pred = set( np.where(y1[i])[0] )\n",
    "        tmp_a = None\n",
    "        if len(set_true) == 0 and len(set_pred) == 0:\n",
    "            tmp_a = 1\n",
    "        else:\n",
    "            tmp_a = len(set_true.intersection(set_pred))/\\\n",
    "                    float( len(set_true.union(set_pred)) )\n",
    "        acc_list.append(tmp_a)"
   ]
  },
  {
   "cell_type": "code",
   "execution_count": 38,
   "metadata": {},
   "outputs": [
    {
     "name": "stdout",
     "output_type": "stream",
     "text": [
      "Decision tree score: 92.35474006116208\n"
     ]
    }
   ],
   "source": [
    "print('Decision tree score:', np.mean(acc_list)*100)"
   ]
  },
  {
   "cell_type": "code",
   "execution_count": 39,
   "metadata": {},
   "outputs": [],
   "source": [
    "knn= KNeighborsClassifier()\n",
    "mtk= MultiOutputClassifier(knn,n_jobs=-1)\n",
    "mtk.fit(X_train,Y_train)\n",
    "y2= mtk.predict(X_test)"
   ]
  },
  {
   "cell_type": "code",
   "execution_count": 40,
   "metadata": {},
   "outputs": [],
   "source": [
    "acc_list = []\n",
    "for i in range(Y_test.shape[0]):\n",
    "        set_true = set( np.where(Y_train[i])[0] )\n",
    "        set_pred = set( np.where(y2[i])[0] )\n",
    "        tmp_a = None\n",
    "        if len(set_true) == 0 and len(set_pred) == 0:\n",
    "            tmp_a = 1\n",
    "        else:\n",
    "            tmp_a = len(set_true.intersection(set_pred))/\\\n",
    "                    float( len(set_true.union(set_pred)) )\n",
    "        acc_list.append(tmp_a)"
   ]
  },
  {
   "cell_type": "code",
   "execution_count": 41,
   "metadata": {},
   "outputs": [
    {
     "name": "stdout",
     "output_type": "stream",
     "text": [
      "KNN score: 84.35779816513762\n"
     ]
    }
   ],
   "source": [
    "print('KNN score:', np.mean(acc_list)*100)"
   ]
  },
  {
   "cell_type": "code",
   "execution_count": null,
   "metadata": {},
   "outputs": [],
   "source": []
  }
 ],
 "metadata": {
  "kernelspec": {
   "display_name": "Python 3",
   "language": "python",
   "name": "python3"
  },
  "language_info": {
   "codemirror_mode": {
    "name": "ipython",
    "version": 3
   },
   "file_extension": ".py",
   "mimetype": "text/x-python",
   "name": "python",
   "nbconvert_exporter": "python",
   "pygments_lexer": "ipython3",
   "version": "3.8.3"
  }
 },
 "nbformat": 4,
 "nbformat_minor": 2
}
